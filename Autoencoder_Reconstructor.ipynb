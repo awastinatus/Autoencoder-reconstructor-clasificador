{
  "cells": [
    {
      "cell_type": "markdown",
      "metadata": {
        "id": "hjoz_3nZZrJO"
      },
      "source": [
        "# **Autoencoder presentacion intermedia**"
      ]
    },
    {
      "cell_type": "markdown",
      "metadata": {
        "id": "AMBp0NWvafmk"
      },
      "source": [
        "# Librerias necesarias\n"
      ]
    },
    {
      "cell_type": "code",
      "execution_count": 3,
      "metadata": {
        "id": "Ipuu4Xhud_db"
      },
      "outputs": [],
      "source": [
        "#Librerías\n",
        "import sys\n",
        "import time\n",
        "from os import path\n",
        "from collections import Counter\n",
        "\n",
        "import pickle\n",
        "import numpy as np\n",
        "import matplotlib.pyplot as plt\n",
        "from google.colab import drive\n",
        "\n",
        "import torch\n",
        "import torchvision\n",
        "import torch.nn as nn\n",
        "import torch.nn.functional as F\n",
        "import torch.optim as optim\n",
        "from torchvision import datasets, transforms\n",
        "from torch.utils.data import Dataset, DataLoader\n",
        "from sklearn.metrics import confusion_matrix, ConfusionMatrixDisplay"
      ]
    },
    {
      "cell_type": "markdown",
      "metadata": {
        "id": "sH3oefcdakPJ"
      },
      "source": [
        "# Datos"
      ]
    },
    {
      "cell_type": "code",
      "execution_count": 4,
      "metadata": {
        "id": "GtGNzK_YAsQS"
      },
      "outputs": [],
      "source": [
        "# Función para cargar archivos .pkl\n",
        "def cargar_datos(ruta_archivo):\n",
        "    with open(ruta_archivo, 'rb') as archivo:\n",
        "        datos = pickle.load(archivo)\n",
        "    return datos"
      ]
    },
    {
      "cell_type": "code",
      "execution_count": 5,
      "metadata": {
        "colab": {
          "base_uri": "https://localhost:8080/"
        },
        "id": "E_EQAat9eEvG",
        "outputId": "74fa53e6-de1c-4568-f806-ba84976c0649"
      },
      "outputs": [
        {
          "output_type": "stream",
          "name": "stdout",
          "text": [
            "Mounted at /content/drive\n"
          ]
        }
      ],
      "source": [
        "# Están los datos en local o drive?\n",
        "path_stamp_dataset_21_new = None\n",
        "# path_stamp_dataset_21_new = 'E:Datos ZTF\\stamp_dataset_21_new.pkl'\n",
        "\n",
        "if path_stamp_dataset_21_new == None: # Sólo aplica si el path de drive coincide\n",
        "\n",
        "    drive.mount('/content/drive') #Montaje de Google Drive\n",
        "    path_stamp_dataset_21_new = '/content/drive/MyDrive/Proyecto Inteligencia/Datos ZTF/stamp_dataset_21_new.pkl'\n",
        "\n",
        "#Cargar datasets\n",
        "datos_stamp_dataset_21_new = cargar_datos(path_stamp_dataset_21_new)"
      ]
    },
    {
      "cell_type": "markdown",
      "metadata": {
        "id": "LIzlNph4baXs"
      },
      "source": [
        "# Carga de datos"
      ]
    },
    {
      "cell_type": "code",
      "execution_count": 6,
      "metadata": {
        "colab": {
          "base_uri": "https://localhost:8080/"
        },
        "id": "mijFwTATf713",
        "outputId": "1a9b161c-586e-494d-d00e-18ebcf4855f6"
      },
      "outputs": [
        {
          "output_type": "stream",
          "name": "stdout",
          "text": [
            "Train\n",
            "  images\n",
            "    Shape: (72710, 21, 21, 3)\n",
            "  features\n",
            "    Shape: (72710, 26)\n",
            "  oid\n",
            "    Shape: (50594,)\n",
            "  class\n",
            "    Shape: (72710,)\n",
            "Test\n",
            "  images\n",
            "    Shape: (500, 21, 21, 3)\n",
            "  features\n",
            "    Shape: (500, 26)\n",
            "  oid\n",
            "    Shape: (500,)\n",
            "  class\n",
            "    Shape: (500,)\n",
            "Validation\n",
            "  images\n",
            "    Shape: (500, 21, 21, 3)\n",
            "  features\n",
            "    Shape: (500, 26)\n",
            "  oid\n",
            "    Shape: (500,)\n",
            "  class\n",
            "    Shape: (500,)\n"
          ]
        }
      ],
      "source": [
        "def print_keys(data, indent=0):\n",
        "    for key, value in data.items():\n",
        "        print(' ' * indent + str(key))\n",
        "        if isinstance(value, dict):\n",
        "            print_keys(value, indent + 2)\n",
        "        elif isinstance(value, (list, tuple)):\n",
        "            print(' ' * (indent + 2) + f'List/Tuple of length {len(value)}')\n",
        "        elif hasattr(value, 'shape'):\n",
        "            print(' ' * (indent + 2) + f'Shape: {value.shape}')\n",
        "        else:\n",
        "            print(' ' * (indent + 2) + str(type(value)))\n",
        "\n",
        "print_keys(datos_stamp_dataset_21_new)\n",
        "\n",
        "class StampDataset(Dataset):\n",
        "    def __init__(self, data, split):\n",
        "        self.images = data[split]['images']\n",
        "        self.features = data[split]['features']\n",
        "        self.label = data[split]['class']\n",
        "        self.split = split\n",
        "\n",
        "    def __len__(self):\n",
        "        return len(self.label)\n",
        "\n",
        "    def __getitem__(self, idx):\n",
        "        return self.images[idx], self.features[idx], self.label[idx]\n",
        "\n",
        "train_dataset = StampDataset(datos_stamp_dataset_21_new, 'Train')\n",
        "train_dataloader = DataLoader(train_dataset, batch_size=64, shuffle=True)\n",
        "\n",
        "val_dataset = StampDataset(datos_stamp_dataset_21_new, 'Validation')\n",
        "val_dataloader = DataLoader(val_dataset, batch_size=len(val_dataset), shuffle=True)"
      ]
    },
    {
      "cell_type": "markdown",
      "metadata": {
        "id": "bdx1Hla0blvL"
      },
      "source": [
        "# Autoencoder\n"
      ]
    },
    {
      "cell_type": "code",
      "execution_count": 11,
      "metadata": {
        "id": "qc8IsVUBKp8W"
      },
      "outputs": [],
      "source": [
        "class Reshape(nn.Module):\n",
        "    def __init__(self, *args):\n",
        "        super().__init__()\n",
        "        self.shape = args\n",
        "\n",
        "    def forward(self, x):\n",
        "        return x.view(self.shape)\n",
        "\n",
        "\n",
        "class ConvAutoencoder(nn.Module):\n",
        "    def __init__(self):\n",
        "        super(ConvAutoencoder, self).__init__()\n",
        "        # Encoder\n",
        "        self.encoder = nn.Sequential(\n",
        "            nn.Conv2d(3, 32, kernel_size=4, stride=1),  # 21x21 -> 18x18\n",
        "            nn.ReLU(),\n",
        "            nn.Conv2d(32, 32, kernel_size=3, stride=1, padding=1),  # 18x18 -> 18x18\n",
        "            nn.ReLU(),\n",
        "            nn.MaxPool2d(kernel_size=2, stride=2),  # 18x18 -> 9x9\n",
        "            nn.Conv2d(32, 64, kernel_size=3, stride=1, padding=1),  # 9x9 -> 9x9\n",
        "            nn.ReLU(),\n",
        "            nn.Conv2d(64, 64, kernel_size=3, stride=1, padding=1),  # 9x9 -> 9x9\n",
        "            nn.ReLU(),\n",
        "            nn.MaxPool2d(kernel_size=2, stride=2),  # 9x9 -> 4x4\n",
        "            nn.Conv2d(64, 64, kernel_size=3, stride=1, padding=1),  # 4x4 -> 4x4\n",
        "            nn.ReLU(),\n",
        "            nn.Flatten(),  # 4x4x64 -> 1024\n",
        "            nn.Linear(1024, 64),  # 1024 -> 64\n",
        "            nn.ReLU(),\n",
        "        )\n",
        "        # Decoder\n",
        "        self.decoder = nn.Sequential(\n",
        "            nn.Linear(64, 1024),  # 64 -> 1024\n",
        "            Reshape(-1, 64, 4, 4),  # Reshape to 64 channels, 4x4\n",
        "            nn.ConvTranspose2d(64, 64, kernel_size=3, stride=2, padding=1, output_padding=1),  # 4x4 -> 9x9\n",
        "            nn.ReLU(),\n",
        "            nn.ConvTranspose2d(64, 32, kernel_size=3, stride=2, padding=1, output_padding=1),  # 9x9 -> 18x18\n",
        "            nn.ReLU(),\n",
        "            nn.ConvTranspose2d(32, 16, kernel_size=3, stride=1, padding=1),  # 18x18 -> 18x18\n",
        "            nn.ReLU(),\n",
        "            nn.Upsample(size=(21, 21), mode='bilinear', align_corners=True),  # Upsample from 18x18 -> 21x21\n",
        "            nn.ConvTranspose2d(16, 3, kernel_size=3, stride=1, padding=1),  # 21x21x16 -> 21x21x3\n",
        "            nn.Sigmoid()  # Final output between 0 and 1\n",
        "        )\n",
        "\n",
        "    def forward(self, x):\n",
        "        x = self.encoder(x)\n",
        "        x = self.decoder(x)\n",
        "        return x"
      ]
    },
    {
      "cell_type": "markdown",
      "metadata": {
        "id": "28AlwIlDty_j"
      },
      "source": [
        "## Entrenamiento\n",
        "\n"
      ]
    },
    {
      "cell_type": "code",
      "execution_count": 7,
      "metadata": {
        "id": "am9VN9zbuwZB"
      },
      "outputs": [],
      "source": [
        "def show_curves(curves):\n",
        "    fig, ax = plt.subplots(1, 2, figsize=(13, 5))\n",
        "    fig.set_facecolor('white')\n",
        "\n",
        "    epochs = np.arange(len(curves[\"val_loss\"])) + 1\n",
        "\n",
        "    ax[0].plot(epochs, curves['val_loss'], label='validation')\n",
        "    ax[0].plot(epochs, curves['train_loss'], label='training')\n",
        "    ax[0].set_xlabel('Epoch')\n",
        "    ax[0].set_ylabel('Loss')\n",
        "    ax[0].set_title('Loss evolution during training')\n",
        "    ax[0].legend()\n",
        "\n",
        "    ax[1].plot(epochs, curves['val_acc'], label='validation')\n",
        "    ax[1].plot(epochs, curves['train_acc'], label='training')\n",
        "    ax[1].set_xlabel('Epoch')\n",
        "    ax[1].set_ylabel('Accuracy')\n",
        "    ax[1].set_title('Accuracy evolution during training')\n",
        "    ax[1].legend()\n",
        "\n",
        "    plt.show()"
      ]
    },
    {
      "cell_type": "code",
      "execution_count": 12,
      "metadata": {
        "colab": {
          "base_uri": "https://localhost:8080/"
        },
        "id": "H6xCKYojuBLS",
        "outputId": "05cd9250-402b-4f5d-b26a-a2b504d191f5"
      },
      "outputs": [
        {
          "output_type": "stream",
          "name": "stdout",
          "text": [
            "Epoch [1/15], Loss: 0.0820\n",
            "Epoch [2/15], Loss: 0.0577\n",
            "Epoch [3/15], Loss: 0.0543\n",
            "Epoch [4/15], Loss: 0.0520\n",
            "Epoch [5/15], Loss: 0.0503\n",
            "Epoch [6/15], Loss: 0.0495\n",
            "Epoch [7/15], Loss: 0.0492\n",
            "Epoch [8/15], Loss: 0.0484\n",
            "Epoch [9/15], Loss: 0.0481\n",
            "Epoch [10/15], Loss: 0.0478\n",
            "Epoch [11/15], Loss: 0.0475\n",
            "Epoch [12/15], Loss: 0.0472\n",
            "Epoch [13/15], Loss: 0.0469\n",
            "Epoch [14/15], Loss: 0.0467\n",
            "Epoch [15/15], Loss: 0.0464\n"
          ]
        }
      ],
      "source": [
        "# Crear el modelo\n",
        "model = ConvAutoencoder()\n",
        "\n",
        "# Mover el modelo a GPU si está disponible\n",
        "device = torch.device(\"cuda\" if torch.cuda.is_available() else \"cpu\")\n",
        "model.to(device)\n",
        "\n",
        "# Definir la función de pérdida (RMSE)\n",
        "criterion = nn.MSELoss()\n",
        "optimizer = torch.optim.Adam(model.parameters(), lr=1e-3, weight_decay=1e-5)\n",
        "\n",
        "# Entrenamiento\n",
        "num_epochs = 15\n",
        "outputs = []\n",
        "\n",
        "model.train()\n",
        "for epoch in range(num_epochs):\n",
        "    epoch_loss = 0.0\n",
        "    for img, _, _ in train_dataloader:\n",
        "        img = img.to(device)\n",
        "        img = img.float().permute(0, 3, 1, 2)\n",
        "\n",
        "        # Paso hacia adelante: calcular las predicciones\n",
        "        recon = model(img)\n",
        "\n",
        "        # Calcular la pérdida (MSE y luego raíz cuadrada para obtener RMSE)\n",
        "        mse_loss = criterion(recon, img)\n",
        "        rmse_loss = torch.sqrt(mse_loss)\n",
        "\n",
        "        # Backpropagación y optimización\n",
        "        optimizer.zero_grad()\n",
        "        rmse_loss.backward()\n",
        "        optimizer.step()\n",
        "\n",
        "        epoch_loss += rmse_loss.item()\n",
        "\n",
        "    # Imprimir la pérdida promedio de la época\n",
        "    avg_loss = epoch_loss / len(train_dataloader)\n",
        "    print(f'Epoch [{epoch+1}/{num_epochs}], Loss: {avg_loss:.4f}')\n",
        "\n",
        "    # Guardar las imágenes originales y reconstruidas para visualizar\n",
        "    outputs.append((epoch, img, recon))\n"
      ]
    },
    {
      "cell_type": "markdown",
      "metadata": {
        "id": "S6vXsdeCuAr0"
      },
      "source": [
        "# Muestra de reconstrucción"
      ]
    },
    {
      "cell_type": "code",
      "execution_count": 15,
      "metadata": {
        "id": "f0mvchjrhD3y",
        "colab": {
          "base_uri": "https://localhost:8080/",
          "height": 607
        },
        "outputId": "01d23b8f-2186-4ba9-80e9-b96156404ddb"
      },
      "outputs": [
        {
          "output_type": "display_data",
          "data": {
            "text/plain": [
              "<Figure size 900x600 with 6 Axes>"
            ],
            "image/png": "[encoded data removed]"
          },
          "metadata": {}
        }
      ],
      "source": [
        "for k in range(12,13):\n",
        "    plt.figure(figsize=(9, 6))  # Ajustar el tamaño de la figura\n",
        "\n",
        "    imgs = outputs[k][1].cpu().detach().numpy()  # Imágenes originales\n",
        "    recon = outputs[k][2].cpu().detach().numpy()  # Imágenes reconstruidas\n",
        "\n",
        "    # Mostrar la primera imagen original (con sus tres canales)\n",
        "    for j in range(3):  # Tres canales: Referencia, Ciencia, Diferencia\n",
        "        plt.subplot(3, 2, 2 * j + 1)\n",
        "        plt.imshow(imgs[0][j], cmap='plasma')  # Canal j de la imagen 0\n",
        "        plt.title(f'Original - {[\"Referencia\", \"Ciencia\", \"Diferencia\"][j]}')\n",
        "        plt.axis('off')\n",
        "\n",
        "    # Mostrar la primera imagen reconstruida (con sus tres canales)\n",
        "    for j in range(3):  # Tres canales: Referencia, Ciencia, Diferencia\n",
        "        plt.subplot(3, 2, 2 * j + 2)\n",
        "        plt.imshow(recon[0][j], cmap='plasma')  # Canal j de la imagen 0\n",
        "        plt.title(f'Reconstruido - {[\"Referencia\", \"Ciencia\", \"Diferencia\"][j]}')\n",
        "        plt.axis('off')\n",
        "\n",
        "    plt.tight_layout()\n",
        "    plt.show()"
      ]
    }
  ],
  "metadata": {
    "accelerator": "GPU",
    "colab": {
      "gpuType": "T4",
      "provenance": []
    },
    "kernelspec": {
      "display_name": "Python 3",
      "name": "python3"
    },
    "language_info": {
      "name": "python"
    }
  },
  "nbformat": 4,
  "nbformat_minor": 0
}